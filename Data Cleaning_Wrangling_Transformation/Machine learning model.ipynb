{
 "cells": [
  {
   "cell_type": "code",
   "execution_count": 1,
   "id": "43afd56e",
   "metadata": {},
   "outputs": [],
   "source": [
    "import pandas as pd\n",
    "from sklearn.preprocessing import LabelEncoder"
   ]
  },
  {
   "cell_type": "code",
   "execution_count": 2,
   "id": "8c9e9f55",
   "metadata": {},
   "outputs": [
    {
     "data": {
      "text/html": [
       "<div>\n",
       "<style scoped>\n",
       "    .dataframe tbody tr th:only-of-type {\n",
       "        vertical-align: middle;\n",
       "    }\n",
       "\n",
       "    .dataframe tbody tr th {\n",
       "        vertical-align: top;\n",
       "    }\n",
       "\n",
       "    .dataframe thead th {\n",
       "        text-align: right;\n",
       "    }\n",
       "</style>\n",
       "<table border=\"1\" class=\"dataframe\">\n",
       "  <thead>\n",
       "    <tr style=\"text-align: right;\">\n",
       "      <th></th>\n",
       "      <th>Unnamed: 0</th>\n",
       "      <th>property_id</th>\n",
       "      <th>location_id</th>\n",
       "      <th>page_url</th>\n",
       "      <th>property_type</th>\n",
       "      <th>price</th>\n",
       "      <th>location</th>\n",
       "      <th>city</th>\n",
       "      <th>province_name</th>\n",
       "      <th>latitude</th>\n",
       "      <th>longitude</th>\n",
       "      <th>baths</th>\n",
       "      <th>purpose</th>\n",
       "      <th>bedrooms</th>\n",
       "      <th>date_added</th>\n",
       "      <th>agency</th>\n",
       "      <th>agent</th>\n",
       "      <th>Total_Area</th>\n",
       "    </tr>\n",
       "  </thead>\n",
       "  <tbody>\n",
       "    <tr>\n",
       "      <th>0</th>\n",
       "      <td>0</td>\n",
       "      <td>237062</td>\n",
       "      <td>3325</td>\n",
       "      <td>https://www.zameen.com/Property/g_10_g_10_2_gr...</td>\n",
       "      <td>Flat</td>\n",
       "      <td>10000000</td>\n",
       "      <td>G-10</td>\n",
       "      <td>Islamabad</td>\n",
       "      <td>Islamabad Capital</td>\n",
       "      <td>33.679890</td>\n",
       "      <td>73.012640</td>\n",
       "      <td>2</td>\n",
       "      <td>For Sale</td>\n",
       "      <td>2</td>\n",
       "      <td>2/4/2019</td>\n",
       "      <td>NaN</td>\n",
       "      <td>NaN</td>\n",
       "      <td>1089.004</td>\n",
       "    </tr>\n",
       "    <tr>\n",
       "      <th>1</th>\n",
       "      <td>1</td>\n",
       "      <td>346905</td>\n",
       "      <td>3236</td>\n",
       "      <td>https://www.zameen.com/Property/e_11_2_service...</td>\n",
       "      <td>Flat</td>\n",
       "      <td>6900000</td>\n",
       "      <td>E-11</td>\n",
       "      <td>Islamabad</td>\n",
       "      <td>Islamabad Capital</td>\n",
       "      <td>33.700993</td>\n",
       "      <td>72.971492</td>\n",
       "      <td>3</td>\n",
       "      <td>For Sale</td>\n",
       "      <td>3</td>\n",
       "      <td>5/4/2019</td>\n",
       "      <td>NaN</td>\n",
       "      <td>NaN</td>\n",
       "      <td>15246.056</td>\n",
       "    </tr>\n",
       "    <tr>\n",
       "      <th>2</th>\n",
       "      <td>2</td>\n",
       "      <td>386513</td>\n",
       "      <td>764</td>\n",
       "      <td>https://www.zameen.com/Property/islamabad_g_15...</td>\n",
       "      <td>House</td>\n",
       "      <td>16500000</td>\n",
       "      <td>G-15</td>\n",
       "      <td>Islamabad</td>\n",
       "      <td>Islamabad Capital</td>\n",
       "      <td>33.631486</td>\n",
       "      <td>72.926559</td>\n",
       "      <td>6</td>\n",
       "      <td>For Sale</td>\n",
       "      <td>5</td>\n",
       "      <td>7/17/2019</td>\n",
       "      <td>NaN</td>\n",
       "      <td>NaN</td>\n",
       "      <td>2178.008</td>\n",
       "    </tr>\n",
       "    <tr>\n",
       "      <th>3</th>\n",
       "      <td>3</td>\n",
       "      <td>656161</td>\n",
       "      <td>340</td>\n",
       "      <td>https://www.zameen.com/Property/islamabad_bani...</td>\n",
       "      <td>House</td>\n",
       "      <td>43500000</td>\n",
       "      <td>Bani Gala</td>\n",
       "      <td>Islamabad</td>\n",
       "      <td>Islamabad Capital</td>\n",
       "      <td>33.707573</td>\n",
       "      <td>73.151199</td>\n",
       "      <td>4</td>\n",
       "      <td>For Sale</td>\n",
       "      <td>4</td>\n",
       "      <td>4/5/2019</td>\n",
       "      <td>NaN</td>\n",
       "      <td>NaN</td>\n",
       "      <td>10890.000</td>\n",
       "    </tr>\n",
       "    <tr>\n",
       "      <th>4</th>\n",
       "      <td>4</td>\n",
       "      <td>841645</td>\n",
       "      <td>3226</td>\n",
       "      <td>https://www.zameen.com/Property/dha_valley_dha...</td>\n",
       "      <td>House</td>\n",
       "      <td>7000000</td>\n",
       "      <td>DHA Defence</td>\n",
       "      <td>Islamabad</td>\n",
       "      <td>Islamabad Capital</td>\n",
       "      <td>33.492591</td>\n",
       "      <td>73.301339</td>\n",
       "      <td>3</td>\n",
       "      <td>For Sale</td>\n",
       "      <td>3</td>\n",
       "      <td>7/10/2019</td>\n",
       "      <td>Easy Property</td>\n",
       "      <td>Muhammad Junaid Ceo Muhammad Shahid Director</td>\n",
       "      <td>2178.008</td>\n",
       "    </tr>\n",
       "    <tr>\n",
       "      <th>...</th>\n",
       "      <td>...</td>\n",
       "      <td>...</td>\n",
       "      <td>...</td>\n",
       "      <td>...</td>\n",
       "      <td>...</td>\n",
       "      <td>...</td>\n",
       "      <td>...</td>\n",
       "      <td>...</td>\n",
       "      <td>...</td>\n",
       "      <td>...</td>\n",
       "      <td>...</td>\n",
       "      <td>...</td>\n",
       "      <td>...</td>\n",
       "      <td>...</td>\n",
       "      <td>...</td>\n",
       "      <td>...</td>\n",
       "      <td>...</td>\n",
       "      <td>...</td>\n",
       "    </tr>\n",
       "    <tr>\n",
       "      <th>168441</th>\n",
       "      <td>168441</td>\n",
       "      <td>17355248</td>\n",
       "      <td>6754</td>\n",
       "      <td>https://www.zameen.com/Property/gulshan_e_maym...</td>\n",
       "      <td>House</td>\n",
       "      <td>26500000</td>\n",
       "      <td>Gadap Town</td>\n",
       "      <td>Karachi</td>\n",
       "      <td>Sindh</td>\n",
       "      <td>25.029909</td>\n",
       "      <td>67.137192</td>\n",
       "      <td>0</td>\n",
       "      <td>For Sale</td>\n",
       "      <td>6</td>\n",
       "      <td>7/18/2019</td>\n",
       "      <td>Al Shahab Enterprises</td>\n",
       "      <td>Shahmir</td>\n",
       "      <td>26136.096</td>\n",
       "    </tr>\n",
       "    <tr>\n",
       "      <th>168442</th>\n",
       "      <td>168442</td>\n",
       "      <td>17355249</td>\n",
       "      <td>680</td>\n",
       "      <td>https://www.zameen.com/Property/gadap_town_gul...</td>\n",
       "      <td>House</td>\n",
       "      <td>12500000</td>\n",
       "      <td>Gadap Town</td>\n",
       "      <td>Karachi</td>\n",
       "      <td>Sindh</td>\n",
       "      <td>25.017951</td>\n",
       "      <td>67.136393</td>\n",
       "      <td>0</td>\n",
       "      <td>For Sale</td>\n",
       "      <td>3</td>\n",
       "      <td>7/18/2019</td>\n",
       "      <td>Al Shahab Enterprises</td>\n",
       "      <td>Shahmir</td>\n",
       "      <td>2178.008</td>\n",
       "    </tr>\n",
       "    <tr>\n",
       "      <th>168443</th>\n",
       "      <td>168443</td>\n",
       "      <td>17355250</td>\n",
       "      <td>6757</td>\n",
       "      <td>https://www.zameen.com/Property/gulshan_e_maym...</td>\n",
       "      <td>House</td>\n",
       "      <td>27000000</td>\n",
       "      <td>Gadap Town</td>\n",
       "      <td>Karachi</td>\n",
       "      <td>Sindh</td>\n",
       "      <td>25.015384</td>\n",
       "      <td>67.116330</td>\n",
       "      <td>0</td>\n",
       "      <td>For Sale</td>\n",
       "      <td>6</td>\n",
       "      <td>7/18/2019</td>\n",
       "      <td>Al Shahab Enterprises</td>\n",
       "      <td>Shahmir</td>\n",
       "      <td>26136.096</td>\n",
       "    </tr>\n",
       "    <tr>\n",
       "      <th>168444</th>\n",
       "      <td>168444</td>\n",
       "      <td>17355251</td>\n",
       "      <td>6752</td>\n",
       "      <td>https://www.zameen.com/Property/gulshan_e_maym...</td>\n",
       "      <td>House</td>\n",
       "      <td>11000000</td>\n",
       "      <td>Gadap Town</td>\n",
       "      <td>Karachi</td>\n",
       "      <td>Sindh</td>\n",
       "      <td>25.013265</td>\n",
       "      <td>67.120818</td>\n",
       "      <td>0</td>\n",
       "      <td>For Sale</td>\n",
       "      <td>3</td>\n",
       "      <td>7/18/2019</td>\n",
       "      <td>Al Shahab Enterprises</td>\n",
       "      <td>Shahmir</td>\n",
       "      <td>21235.578</td>\n",
       "    </tr>\n",
       "    <tr>\n",
       "      <th>168445</th>\n",
       "      <td>168445</td>\n",
       "      <td>17355287</td>\n",
       "      <td>10045</td>\n",
       "      <td>https://www.zameen.com/Property/bahria_town_ka...</td>\n",
       "      <td>House</td>\n",
       "      <td>9000000</td>\n",
       "      <td>Bahria Town Karachi</td>\n",
       "      <td>Karachi</td>\n",
       "      <td>Sindh</td>\n",
       "      <td>25.113565</td>\n",
       "      <td>67.353811</td>\n",
       "      <td>3</td>\n",
       "      <td>For Sale</td>\n",
       "      <td>3</td>\n",
       "      <td>7/18/2019</td>\n",
       "      <td>ZPN Real Estate &amp; Builders</td>\n",
       "      <td>Ali Raza</td>\n",
       "      <td>25591.594</td>\n",
       "    </tr>\n",
       "  </tbody>\n",
       "</table>\n",
       "<p>168446 rows × 18 columns</p>\n",
       "</div>"
      ],
      "text/plain": [
       "        Unnamed: 0  property_id  location_id  \\\n",
       "0                0       237062         3325   \n",
       "1                1       346905         3236   \n",
       "2                2       386513          764   \n",
       "3                3       656161          340   \n",
       "4                4       841645         3226   \n",
       "...            ...          ...          ...   \n",
       "168441      168441     17355248         6754   \n",
       "168442      168442     17355249          680   \n",
       "168443      168443     17355250         6757   \n",
       "168444      168444     17355251         6752   \n",
       "168445      168445     17355287        10045   \n",
       "\n",
       "                                                 page_url property_type  \\\n",
       "0       https://www.zameen.com/Property/g_10_g_10_2_gr...          Flat   \n",
       "1       https://www.zameen.com/Property/e_11_2_service...          Flat   \n",
       "2       https://www.zameen.com/Property/islamabad_g_15...         House   \n",
       "3       https://www.zameen.com/Property/islamabad_bani...         House   \n",
       "4       https://www.zameen.com/Property/dha_valley_dha...         House   \n",
       "...                                                   ...           ...   \n",
       "168441  https://www.zameen.com/Property/gulshan_e_maym...         House   \n",
       "168442  https://www.zameen.com/Property/gadap_town_gul...         House   \n",
       "168443  https://www.zameen.com/Property/gulshan_e_maym...         House   \n",
       "168444  https://www.zameen.com/Property/gulshan_e_maym...         House   \n",
       "168445  https://www.zameen.com/Property/bahria_town_ka...         House   \n",
       "\n",
       "           price             location       city      province_name  \\\n",
       "0       10000000                 G-10  Islamabad  Islamabad Capital   \n",
       "1        6900000                 E-11  Islamabad  Islamabad Capital   \n",
       "2       16500000                 G-15  Islamabad  Islamabad Capital   \n",
       "3       43500000            Bani Gala  Islamabad  Islamabad Capital   \n",
       "4        7000000          DHA Defence  Islamabad  Islamabad Capital   \n",
       "...          ...                  ...        ...                ...   \n",
       "168441  26500000           Gadap Town    Karachi              Sindh   \n",
       "168442  12500000           Gadap Town    Karachi              Sindh   \n",
       "168443  27000000           Gadap Town    Karachi              Sindh   \n",
       "168444  11000000           Gadap Town    Karachi              Sindh   \n",
       "168445   9000000  Bahria Town Karachi    Karachi              Sindh   \n",
       "\n",
       "         latitude  longitude  baths   purpose  bedrooms date_added  \\\n",
       "0       33.679890  73.012640      2  For Sale         2   2/4/2019   \n",
       "1       33.700993  72.971492      3  For Sale         3   5/4/2019   \n",
       "2       33.631486  72.926559      6  For Sale         5  7/17/2019   \n",
       "3       33.707573  73.151199      4  For Sale         4   4/5/2019   \n",
       "4       33.492591  73.301339      3  For Sale         3  7/10/2019   \n",
       "...           ...        ...    ...       ...       ...        ...   \n",
       "168441  25.029909  67.137192      0  For Sale         6  7/18/2019   \n",
       "168442  25.017951  67.136393      0  For Sale         3  7/18/2019   \n",
       "168443  25.015384  67.116330      0  For Sale         6  7/18/2019   \n",
       "168444  25.013265  67.120818      0  For Sale         3  7/18/2019   \n",
       "168445  25.113565  67.353811      3  For Sale         3  7/18/2019   \n",
       "\n",
       "                            agency  \\\n",
       "0                              NaN   \n",
       "1                              NaN   \n",
       "2                              NaN   \n",
       "3                              NaN   \n",
       "4                    Easy Property   \n",
       "...                            ...   \n",
       "168441       Al Shahab Enterprises   \n",
       "168442       Al Shahab Enterprises   \n",
       "168443       Al Shahab Enterprises   \n",
       "168444       Al Shahab Enterprises   \n",
       "168445  ZPN Real Estate & Builders   \n",
       "\n",
       "                                               agent  Total_Area  \n",
       "0                                                NaN    1089.004  \n",
       "1                                                NaN   15246.056  \n",
       "2                                                NaN    2178.008  \n",
       "3                                                NaN   10890.000  \n",
       "4       Muhammad Junaid Ceo Muhammad Shahid Director    2178.008  \n",
       "...                                              ...         ...  \n",
       "168441                                       Shahmir   26136.096  \n",
       "168442                                       Shahmir    2178.008  \n",
       "168443                                       Shahmir   26136.096  \n",
       "168444                                       Shahmir   21235.578  \n",
       "168445                                      Ali Raza   25591.594  \n",
       "\n",
       "[168446 rows x 18 columns]"
      ]
     },
     "execution_count": 2,
     "metadata": {},
     "output_type": "execute_result"
    }
   ],
   "source": [
    "df=pd.read_csv('Data.csv')\n",
    "df"
   ]
  },
  {
   "cell_type": "code",
   "execution_count": 3,
   "id": "bf60699d",
   "metadata": {},
   "outputs": [
    {
     "data": {
      "text/plain": [
       "(41427, 18)"
      ]
     },
     "execution_count": 3,
     "metadata": {},
     "output_type": "execute_result"
    }
   ],
   "source": [
    "df = df[df['city'] =='Lahore'].copy().reset_index(drop=True)\n",
    "df.shape"
   ]
  },
  {
   "cell_type": "code",
   "execution_count": 4,
   "id": "ad8889db",
   "metadata": {},
   "outputs": [
    {
     "data": {
      "text/plain": [
       "Unnamed: 0           0\n",
       "property_id          0\n",
       "location_id          0\n",
       "page_url             0\n",
       "property_type        0\n",
       "price                0\n",
       "location             0\n",
       "city                 0\n",
       "province_name        0\n",
       "latitude             0\n",
       "longitude            0\n",
       "baths                0\n",
       "purpose              0\n",
       "bedrooms             0\n",
       "date_added           0\n",
       "agency           10203\n",
       "agent            10204\n",
       "Total_Area           0\n",
       "dtype: int64"
      ]
     },
     "execution_count": 4,
     "metadata": {},
     "output_type": "execute_result"
    }
   ],
   "source": [
    "df.isnull().sum()"
   ]
  },
  {
   "cell_type": "code",
   "execution_count": 5,
   "id": "4122d47c",
   "metadata": {},
   "outputs": [
    {
     "data": {
      "text/plain": [
       "Unnamed: 0         int64\n",
       "property_id        int64\n",
       "location_id        int64\n",
       "page_url          object\n",
       "property_type     object\n",
       "price              int64\n",
       "location          object\n",
       "city              object\n",
       "province_name     object\n",
       "latitude         float64\n",
       "longitude        float64\n",
       "baths              int64\n",
       "purpose           object\n",
       "bedrooms           int64\n",
       "date_added        object\n",
       "agency            object\n",
       "agent             object\n",
       "Total_Area       float64\n",
       "dtype: object"
      ]
     },
     "execution_count": 5,
     "metadata": {},
     "output_type": "execute_result"
    }
   ],
   "source": [
    "df.dtypes"
   ]
  },
  {
   "cell_type": "code",
   "execution_count": 6,
   "id": "e57cdb64",
   "metadata": {},
   "outputs": [
    {
     "data": {
      "text/plain": [
       "Unnamed: 0       0\n",
       "property_id      0\n",
       "location_id      0\n",
       "page_url         0\n",
       "property_type    0\n",
       "price            0\n",
       "location         0\n",
       "city             0\n",
       "province_name    0\n",
       "latitude         0\n",
       "longitude        0\n",
       "baths            0\n",
       "purpose          0\n",
       "bedrooms         0\n",
       "date_added       0\n",
       "Total_Area       0\n",
       "dtype: int64"
      ]
     },
     "execution_count": 6,
     "metadata": {},
     "output_type": "execute_result"
    }
   ],
   "source": [
    "df.drop(['agency', 'agent'], axis=1,inplace=True)\n",
    "df.isnull().sum()"
   ]
  },
  {
   "cell_type": "code",
   "execution_count": 7,
   "id": "24a18362",
   "metadata": {},
   "outputs": [],
   "source": [
    "df.drop(['Unnamed: 0', 'property_id','location_id','page_url','purpose','date_added','city','province_name','location'], axis=1,inplace=True)"
   ]
  },
  {
   "cell_type": "code",
   "execution_count": 8,
   "id": "970e1a6d",
   "metadata": {},
   "outputs": [],
   "source": [
    "df.drop_duplicates(inplace=True)\n",
    "df.reset_index(drop=True,inplace=True)"
   ]
  },
  {
   "cell_type": "code",
   "execution_count": 9,
   "id": "6dc881e6",
   "metadata": {},
   "outputs": [
    {
     "data": {
      "text/plain": [
       "House            26173\n",
       "Flat              1128\n",
       "Farm House         225\n",
       "Upper Portion       54\n",
       "Lower Portion       50\n",
       "Penthouse           12\n",
       "Room                 8\n",
       "Name: property_type, dtype: int64"
      ]
     },
     "execution_count": 9,
     "metadata": {},
     "output_type": "execute_result"
    }
   ],
   "source": [
    "df.property_type.value_counts()"
   ]
  },
  {
   "cell_type": "code",
   "execution_count": 10,
   "id": "14fbda99",
   "metadata": {},
   "outputs": [
    {
     "data": {
      "text/plain": [
       "array(['House', 'Flat', 'Lower Portion', 'Farm House', 'Penthouse',\n",
       "       'Upper Portion', 'Room'], dtype=object)"
      ]
     },
     "execution_count": 10,
     "metadata": {},
     "output_type": "execute_result"
    }
   ],
   "source": [
    "df.property_type.unique()"
   ]
  },
  {
   "cell_type": "code",
   "execution_count": 11,
   "id": "9e87fdf6",
   "metadata": {},
   "outputs": [
    {
     "data": {
      "text/html": [
       "<div>\n",
       "<style scoped>\n",
       "    .dataframe tbody tr th:only-of-type {\n",
       "        vertical-align: middle;\n",
       "    }\n",
       "\n",
       "    .dataframe tbody tr th {\n",
       "        vertical-align: top;\n",
       "    }\n",
       "\n",
       "    .dataframe thead th {\n",
       "        text-align: right;\n",
       "    }\n",
       "</style>\n",
       "<table border=\"1\" class=\"dataframe\">\n",
       "  <thead>\n",
       "    <tr style=\"text-align: right;\">\n",
       "      <th></th>\n",
       "      <th>property_type</th>\n",
       "      <th>price</th>\n",
       "    </tr>\n",
       "  </thead>\n",
       "  <tbody>\n",
       "    <tr>\n",
       "      <th>6</th>\n",
       "      <td>Upper Portion</td>\n",
       "      <td>3.865833e+06</td>\n",
       "    </tr>\n",
       "    <tr>\n",
       "      <th>3</th>\n",
       "      <td>Lower Portion</td>\n",
       "      <td>5.347001e+06</td>\n",
       "    </tr>\n",
       "    <tr>\n",
       "      <th>1</th>\n",
       "      <td>Flat</td>\n",
       "      <td>7.976855e+06</td>\n",
       "    </tr>\n",
       "    <tr>\n",
       "      <th>5</th>\n",
       "      <td>Room</td>\n",
       "      <td>1.190538e+07</td>\n",
       "    </tr>\n",
       "    <tr>\n",
       "      <th>4</th>\n",
       "      <td>Penthouse</td>\n",
       "      <td>1.872500e+07</td>\n",
       "    </tr>\n",
       "    <tr>\n",
       "      <th>2</th>\n",
       "      <td>House</td>\n",
       "      <td>2.658294e+07</td>\n",
       "    </tr>\n",
       "    <tr>\n",
       "      <th>0</th>\n",
       "      <td>Farm House</td>\n",
       "      <td>6.146067e+07</td>\n",
       "    </tr>\n",
       "  </tbody>\n",
       "</table>\n",
       "</div>"
      ],
      "text/plain": [
       "   property_type         price\n",
       "6  Upper Portion  3.865833e+06\n",
       "3  Lower Portion  5.347001e+06\n",
       "1           Flat  7.976855e+06\n",
       "5           Room  1.190538e+07\n",
       "4      Penthouse  1.872500e+07\n",
       "2          House  2.658294e+07\n",
       "0     Farm House  6.146067e+07"
      ]
     },
     "execution_count": 11,
     "metadata": {},
     "output_type": "execute_result"
    }
   ],
   "source": [
    "df.groupby('property_type')['price'].mean().reset_index().sort_values(by='price',ascending=True)"
   ]
  },
  {
   "cell_type": "code",
   "execution_count": 12,
   "id": "5d24ca75",
   "metadata": {},
   "outputs": [],
   "source": [
    "#rank 0 to \"Upper Portion\",likewise rank 6 to \"Farm House\"\n",
    "from pandas.api.types import CategoricalDtype\n",
    "property_mapping = [\"Upper Portion\", \"Lower Portion\", \"Flat\", \"Room\", \"Penthouse\", \"House\", \"Farm House\"]\n",
    "property_dtype = pd.CategoricalDtype( categories=property_mapping,ordered=True)\n",
    "df['PropertyType'] = df['property_type'].astype(property_dtype).cat.codes"
   ]
  },
  {
   "cell_type": "code",
   "execution_count": 13,
   "id": "6129bce7",
   "metadata": {},
   "outputs": [
    {
     "data": {
      "text/plain": [
       "array([5, 2, 1, 6, 4, 0, 3], dtype=int8)"
      ]
     },
     "execution_count": 13,
     "metadata": {},
     "output_type": "execute_result"
    }
   ],
   "source": [
    "df['PropertyType'].unique()"
   ]
  },
  {
   "cell_type": "code",
   "execution_count": 14,
   "id": "c72429ed",
   "metadata": {},
   "outputs": [
    {
     "data": {
      "text/html": [
       "<div>\n",
       "<style scoped>\n",
       "    .dataframe tbody tr th:only-of-type {\n",
       "        vertical-align: middle;\n",
       "    }\n",
       "\n",
       "    .dataframe tbody tr th {\n",
       "        vertical-align: top;\n",
       "    }\n",
       "\n",
       "    .dataframe thead th {\n",
       "        text-align: right;\n",
       "    }\n",
       "</style>\n",
       "<table border=\"1\" class=\"dataframe\">\n",
       "  <thead>\n",
       "    <tr style=\"text-align: right;\">\n",
       "      <th></th>\n",
       "      <th>price</th>\n",
       "      <th>latitude</th>\n",
       "      <th>longitude</th>\n",
       "      <th>baths</th>\n",
       "      <th>bedrooms</th>\n",
       "      <th>Total_Area</th>\n",
       "      <th>PropertyType</th>\n",
       "    </tr>\n",
       "  </thead>\n",
       "  <tbody>\n",
       "    <tr>\n",
       "      <th>0</th>\n",
       "      <td>220000000</td>\n",
       "      <td>31.483869</td>\n",
       "      <td>74.325686</td>\n",
       "      <td>0</td>\n",
       "      <td>0</td>\n",
       "      <td>32670.000</td>\n",
       "      <td>5</td>\n",
       "    </tr>\n",
       "    <tr>\n",
       "      <th>1</th>\n",
       "      <td>40000000</td>\n",
       "      <td>31.431593</td>\n",
       "      <td>74.179980</td>\n",
       "      <td>5</td>\n",
       "      <td>5</td>\n",
       "      <td>5445.000</td>\n",
       "      <td>5</td>\n",
       "    </tr>\n",
       "    <tr>\n",
       "      <th>2</th>\n",
       "      <td>9500000</td>\n",
       "      <td>31.499348</td>\n",
       "      <td>74.416959</td>\n",
       "      <td>0</td>\n",
       "      <td>3</td>\n",
       "      <td>2450.259</td>\n",
       "      <td>5</td>\n",
       "    </tr>\n",
       "    <tr>\n",
       "      <th>3</th>\n",
       "      <td>125000000</td>\n",
       "      <td>31.522069</td>\n",
       "      <td>74.355512</td>\n",
       "      <td>7</td>\n",
       "      <td>8</td>\n",
       "      <td>5445.000</td>\n",
       "      <td>5</td>\n",
       "    </tr>\n",
       "    <tr>\n",
       "      <th>4</th>\n",
       "      <td>21000000</td>\n",
       "      <td>31.506483</td>\n",
       "      <td>74.286017</td>\n",
       "      <td>5</td>\n",
       "      <td>6</td>\n",
       "      <td>2994.761</td>\n",
       "      <td>5</td>\n",
       "    </tr>\n",
       "    <tr>\n",
       "      <th>...</th>\n",
       "      <td>...</td>\n",
       "      <td>...</td>\n",
       "      <td>...</td>\n",
       "      <td>...</td>\n",
       "      <td>...</td>\n",
       "      <td>...</td>\n",
       "      <td>...</td>\n",
       "    </tr>\n",
       "    <tr>\n",
       "      <th>27645</th>\n",
       "      <td>22500000</td>\n",
       "      <td>31.442248</td>\n",
       "      <td>74.402375</td>\n",
       "      <td>3</td>\n",
       "      <td>3</td>\n",
       "      <td>2722.510</td>\n",
       "      <td>5</td>\n",
       "    </tr>\n",
       "    <tr>\n",
       "      <th>27646</th>\n",
       "      <td>22500000</td>\n",
       "      <td>31.438989</td>\n",
       "      <td>74.404049</td>\n",
       "      <td>3</td>\n",
       "      <td>3</td>\n",
       "      <td>2722.510</td>\n",
       "      <td>5</td>\n",
       "    </tr>\n",
       "    <tr>\n",
       "      <th>27647</th>\n",
       "      <td>39000000</td>\n",
       "      <td>31.468350</td>\n",
       "      <td>74.401603</td>\n",
       "      <td>6</td>\n",
       "      <td>5</td>\n",
       "      <td>5445.000</td>\n",
       "      <td>5</td>\n",
       "    </tr>\n",
       "    <tr>\n",
       "      <th>27648</th>\n",
       "      <td>28000000</td>\n",
       "      <td>31.359647</td>\n",
       "      <td>74.253073</td>\n",
       "      <td>7</td>\n",
       "      <td>6</td>\n",
       "      <td>5445.000</td>\n",
       "      <td>5</td>\n",
       "    </tr>\n",
       "    <tr>\n",
       "      <th>27649</th>\n",
       "      <td>20500000</td>\n",
       "      <td>31.494408</td>\n",
       "      <td>74.437666</td>\n",
       "      <td>4</td>\n",
       "      <td>3</td>\n",
       "      <td>2722.510</td>\n",
       "      <td>5</td>\n",
       "    </tr>\n",
       "  </tbody>\n",
       "</table>\n",
       "<p>27650 rows × 7 columns</p>\n",
       "</div>"
      ],
      "text/plain": [
       "           price   latitude  longitude  baths  bedrooms  Total_Area  \\\n",
       "0      220000000  31.483869  74.325686      0         0   32670.000   \n",
       "1       40000000  31.431593  74.179980      5         5    5445.000   \n",
       "2        9500000  31.499348  74.416959      0         3    2450.259   \n",
       "3      125000000  31.522069  74.355512      7         8    5445.000   \n",
       "4       21000000  31.506483  74.286017      5         6    2994.761   \n",
       "...          ...        ...        ...    ...       ...         ...   \n",
       "27645   22500000  31.442248  74.402375      3         3    2722.510   \n",
       "27646   22500000  31.438989  74.404049      3         3    2722.510   \n",
       "27647   39000000  31.468350  74.401603      6         5    5445.000   \n",
       "27648   28000000  31.359647  74.253073      7         6    5445.000   \n",
       "27649   20500000  31.494408  74.437666      4         3    2722.510   \n",
       "\n",
       "       PropertyType  \n",
       "0                 5  \n",
       "1                 5  \n",
       "2                 5  \n",
       "3                 5  \n",
       "4                 5  \n",
       "...             ...  \n",
       "27645             5  \n",
       "27646             5  \n",
       "27647             5  \n",
       "27648             5  \n",
       "27649             5  \n",
       "\n",
       "[27650 rows x 7 columns]"
      ]
     },
     "execution_count": 14,
     "metadata": {},
     "output_type": "execute_result"
    }
   ],
   "source": [
    "df.drop('property_type',axis=1,inplace=True)\n",
    "df"
   ]
  },
  {
   "cell_type": "markdown",
   "id": "b67210b7",
   "metadata": {},
   "source": [
    "# Outlier Removed"
   ]
  },
  {
   "cell_type": "code",
   "execution_count": 15,
   "id": "f996a402",
   "metadata": {},
   "outputs": [],
   "source": [
    "from scipy import stats\n",
    "import pandas as pd\n",
    "z_scores = stats.zscore(df)\n",
    "threshold = 7\n",
    "outliers_mask = (abs(z_scores) > threshold).any(axis=1)\n",
    "df_cleaned = df[~outliers_mask]\n",
    "df_cleaned.reset_index(drop=True, inplace=True)\n",
    "df_cleaned.to_csv(\"OutliersRemoved.CSV\",index=False)"
   ]
  },
  {
   "cell_type": "markdown",
   "id": "e62fdd08",
   "metadata": {},
   "source": [
    "# Standardization"
   ]
  },
  {
   "cell_type": "code",
   "execution_count": 36,
   "id": "02a2b980",
   "metadata": {},
   "outputs": [],
   "source": [
    "from sklearn.preprocessing import StandardScaler\n",
    "scaler = StandardScaler()\n",
    "standardized_data = scaler.fit_transform(df_cleaned)\n",
    "standardized_df = pd.DataFrame(standardized_data, columns=df_cleaned.columns)\n",
    "standardized_df.to_csv(\"standardized.CSV\",index=False)"
   ]
  },
  {
   "cell_type": "markdown",
   "id": "3a7d414d",
   "metadata": {},
   "source": [
    "# Normalization"
   ]
  },
  {
   "cell_type": "code",
   "execution_count": 39,
   "id": "6db8d215",
   "metadata": {},
   "outputs": [],
   "source": [
    "from sklearn.preprocessing import MinMaxScaler\n",
    "scaler = MinMaxScaler()\n",
    "normalized_data = scaler.fit_transform(df_cleaned)\n",
    "normalized_df = pd.DataFrame(normalized_data, columns=df_cleaned.columns)"
   ]
  },
  {
   "cell_type": "markdown",
   "id": "c087d386",
   "metadata": {},
   "source": [
    "# Model training testing"
   ]
  },
  {
   "cell_type": "code",
   "execution_count": 40,
   "id": "35fd7a51",
   "metadata": {},
   "outputs": [
    {
     "name": "stdout",
     "output_type": "stream",
     "text": [
      "Mean Squared Error: 0.0014817282592950007\n"
     ]
    }
   ],
   "source": [
    "from sklearn.ensemble import RandomForestRegressor\n",
    "from sklearn.model_selection import train_test_split\n",
    "from sklearn.metrics import mean_squared_error\n",
    "#X = standardized_df.drop('price', axis=1)\n",
    "#y = standardized_df['price']  \n",
    "X = normalized_df.drop('price', axis=1)\n",
    "y = normalized_df['price'] \n",
    "X_train, X_test, y_train, y_test = train_test_split(X, y, test_size=0.2, random_state=41)\n",
    "model = RandomForestRegressor(n_estimators=100, random_state=42)\n",
    "model.fit(X_train, y_train)\n",
    "y_pred = model.predict(X_test)\n",
    "mse = mean_squared_error(y_test, y_pred)\n",
    "print(f\"Mean Squared Error: {mse}\")"
   ]
  },
  {
   "cell_type": "code",
   "execution_count": 41,
   "id": "8fd11074",
   "metadata": {},
   "outputs": [
    {
     "name": "stdout",
     "output_type": "stream",
     "text": [
      "R2 Score: 0.8182324930017557\n",
      "Mean Absolute Error: 0.016228654000285572\n",
      "Mean Squared Error: 0.0014817282592950007\n",
      "Root Mean Squared Error: 0.03849322355032118\n"
     ]
    }
   ],
   "source": [
    "from sklearn.metrics import mean_squared_error, mean_absolute_error, r2_score\n",
    "import numpy as np\n",
    "mae = mean_absolute_error(y_test, y_pred)\n",
    "mse = mean_squared_error(y_test, y_pred)\n",
    "rmse = np.sqrt(mse)\n",
    "r2 = r2_score(y_test, y_pred)\n",
    "print(f\"R2 Score: {r2}\")\n",
    "print(f\"Mean Absolute Error: {mae}\")\n",
    "print(f\"Mean Squared Error: {mse}\")\n",
    "print(f\"Root Mean Squared Error: {rmse}\")"
   ]
  },
  {
   "cell_type": "markdown",
   "id": "30f05316",
   "metadata": {},
   "source": [
    "# HYPER TUNNING"
   ]
  },
  {
   "cell_type": "code",
   "execution_count": 22,
   "id": "3cae915d",
   "metadata": {},
   "outputs": [
    {
     "name": "stdout",
     "output_type": "stream",
     "text": [
      "Fitting 3 folds for each of 81 candidates, totalling 243 fits\n",
      "Best parameters: {'max_depth': 20, 'min_samples_leaf': 2, 'min_samples_split': 10, 'n_estimators': 300}\n",
      "R2 Score: 0.801758249819509\n",
      "Mean Absolute Error: 0.18024018227884292\n",
      "Mean Squared Error: 0.19533192674540095\n",
      "Root Mean Squared Error: 0.4419637165485431\n"
     ]
    }
   ],
   "source": [
    "from sklearn.model_selection import GridSearchCV\n",
    "from sklearn.ensemble import RandomForestRegressor\n",
    "from sklearn.metrics import mean_squared_error, mean_absolute_error, r2_score\n",
    "import numpy as np\n",
    "\n",
    "param_grid = {\n",
    "    'n_estimators': [100, 200, 300],\n",
    "    'max_depth': [10, 20, 30],\n",
    "    'min_samples_split': [2, 5, 10],\n",
    "    'min_samples_leaf': [1, 2, 4]\n",
    "}\n",
    "\n",
    "grid_search = GridSearchCV(estimator=RandomForestRegressor(random_state=42), \n",
    "                           param_grid=param_grid, \n",
    "                           cv=3, \n",
    "                           n_jobs=-1, \n",
    "                           verbose=2)\n",
    "grid_search.fit(X_train, y_train)\n",
    "print(\"Best parameters:\", grid_search.best_params_)\n",
    "best_model = grid_search.best_estimator_\n",
    "y_pred_best = best_model.predict(X_test)\n",
    "mae = mean_absolute_error(y_test, y_pred_best)\n",
    "mse = mean_squared_error(y_test, y_pred_best)\n",
    "rmse = np.sqrt(mse)\n",
    "r2 = r2_score(y_test, y_pred_best)\n",
    "print(f\"R2 Score: {r2}\")\n",
    "print(f\"Mean Absolute Error: {mae}\")\n",
    "print(f\"Mean Squared Error: {mse}\")\n",
    "print(f\"Root Mean Squared Error: {rmse}\")"
   ]
  },
  {
   "cell_type": "code",
   "execution_count": 23,
   "id": "e86bcff7",
   "metadata": {},
   "outputs": [
    {
     "data": {
      "text/plain": [
       "['model.joblib']"
      ]
     },
     "execution_count": 23,
     "metadata": {},
     "output_type": "execute_result"
    }
   ],
   "source": [
    "from joblib import dump\n",
    "dump(best_model, 'model.joblib')"
   ]
  },
  {
   "cell_type": "code",
   "execution_count": 24,
   "id": "2ab331c2",
   "metadata": {},
   "outputs": [],
   "source": [
    "from joblib import load\n",
    "loaded_model = load('model.joblib')"
   ]
  },
  {
   "cell_type": "code",
   "execution_count": 25,
   "id": "5d7c9b8f",
   "metadata": {},
   "outputs": [
    {
     "name": "stdout",
     "output_type": "stream",
     "text": [
      "R2 Score: 0.801758249819509\n",
      "Mean Absolute Error: 0.18024018227884292\n",
      "Mean Squared Error: 0.19533192674540095\n",
      "Root Mean Squared Error: 0.4419637165485431\n"
     ]
    }
   ],
   "source": [
    "y_pred_best = best_model.predict(X_test)\n",
    "mae = mean_absolute_error(y_test, y_pred_best)\n",
    "mse = mean_squared_error(y_test, y_pred_best)\n",
    "rmse = np.sqrt(mse)\n",
    "r2 = r2_score(y_test, y_pred_best)\n",
    "print(f\"R2 Score: {r2}\")\n",
    "print(f\"Mean Absolute Error: {mae}\")\n",
    "print(f\"Mean Squared Error: {mse}\")\n",
    "print(f\"Root Mean Squared Error: {rmse}\")"
   ]
  },
  {
   "cell_type": "code",
   "execution_count": null,
   "id": "952b2e78",
   "metadata": {},
   "outputs": [],
   "source": []
  }
 ],
 "metadata": {
  "kernelspec": {
   "display_name": "Python 3 (ipykernel)",
   "language": "python",
   "name": "python3"
  },
  "language_info": {
   "codemirror_mode": {
    "name": "ipython",
    "version": 3
   },
   "file_extension": ".py",
   "mimetype": "text/x-python",
   "name": "python",
   "nbconvert_exporter": "python",
   "pygments_lexer": "ipython3",
   "version": "3.11.3"
  }
 },
 "nbformat": 4,
 "nbformat_minor": 5
}
